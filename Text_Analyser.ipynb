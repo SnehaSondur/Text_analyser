{
 "cells": [
  {
   "cell_type": "code",
   "execution_count": 8,
   "id": "cbc6d335",
   "metadata": {},
   "outputs": [],
   "source": [
    "#Code to analyse text and return words composition and frequency\n",
    "class analysedText(object):\n",
    "    \n",
    "    def __init__ (self,text):\n",
    "        \n",
    "        fmtText=text.lower()\n",
    "        fmtText=fmtText.replace('.','')\n",
    "        fmtText=fmtText.replace('!','')\n",
    "        fmtText=fmtText.replace(',','')\n",
    "        fmtText=fmtText.replace('?','')\n",
    "        self.fmtText=fmtText\n",
    "        \n",
    "        # Remove the punctuation from <text> and make it lower case.\n",
    "\n",
    "        # Assign the formatted text to a new attribute called \"fmtText\"\n",
    "        \n",
    "    \n",
    "    def freqAll(self):  \n",
    "        \n",
    "        wordlist = self.fmtText.split()\n",
    "        wordset=sorted(set(wordlist))\n",
    "        word_dict={}\n",
    "        \n",
    "        for word in wordset:\n",
    "            word_dict[word]=wordlist.count(word)          \n",
    "        return word_dict\n",
    "            \n",
    "\n",
    "        # Split the text into a list of words  \n",
    "\n",
    "        # Create a dictionary with the unique words in the text as keys\n",
    "        # and the number of times they occur in the text as values\n",
    "\n",
    "    def freqOf(self, word):\n",
    "        freqDict = self.freqAll()\n",
    "        if word.lower() in freqDict:\n",
    "            return freqDict[word.lower()]\n",
    "        else:\n",
    "            print(f'{word} not present in text')"
   ]
  },
  {
   "cell_type": "code",
   "execution_count": 9,
   "id": "99e324cf",
   "metadata": {},
   "outputs": [],
   "source": [
    "samplePassage = analysedText('Alice was beginning to get very tired of sitting by her sister on the bank, and of having nothing to do: once or twice she had peeped into the book her sister was reading, but it had no pictures or conversations in it, and what is the use of a book, thought Alice without pictures or conversation?')"
   ]
  },
  {
   "cell_type": "code",
   "execution_count": 10,
   "id": "e6e26df3",
   "metadata": {},
   "outputs": [
    {
     "data": {
      "text/plain": [
       "{'a': 1,\n",
       " 'alice': 2,\n",
       " 'and': 2,\n",
       " 'bank': 1,\n",
       " 'beginning': 1,\n",
       " 'book': 2,\n",
       " 'but': 1,\n",
       " 'by': 1,\n",
       " 'conversation': 1,\n",
       " 'conversations': 1,\n",
       " 'do:': 1,\n",
       " 'get': 1,\n",
       " 'had': 2,\n",
       " 'having': 1,\n",
       " 'her': 2,\n",
       " 'in': 1,\n",
       " 'into': 1,\n",
       " 'is': 1,\n",
       " 'it': 2,\n",
       " 'no': 1,\n",
       " 'nothing': 1,\n",
       " 'of': 3,\n",
       " 'on': 1,\n",
       " 'once': 1,\n",
       " 'or': 3,\n",
       " 'peeped': 1,\n",
       " 'pictures': 2,\n",
       " 'reading': 1,\n",
       " 'she': 1,\n",
       " 'sister': 2,\n",
       " 'sitting': 1,\n",
       " 'the': 3,\n",
       " 'thought': 1,\n",
       " 'tired': 1,\n",
       " 'to': 2,\n",
       " 'twice': 1,\n",
       " 'use': 1,\n",
       " 'very': 1,\n",
       " 'was': 2,\n",
       " 'what': 1,\n",
       " 'without': 1}"
      ]
     },
     "execution_count": 10,
     "metadata": {},
     "output_type": "execute_result"
    }
   ],
   "source": [
    "samplePassage.freqAll()\n"
   ]
  },
  {
   "cell_type": "code",
   "execution_count": 11,
   "id": "eedea332",
   "metadata": {},
   "outputs": [
    {
     "data": {
      "text/plain": [
       "2"
      ]
     },
     "execution_count": 11,
     "metadata": {},
     "output_type": "execute_result"
    }
   ],
   "source": [
    "samplePassage.freqOf('alice')"
   ]
  }
 ],
 "metadata": {
  "kernelspec": {
   "display_name": "Python 3 (ipykernel)",
   "language": "python",
   "name": "python3"
  },
  "language_info": {
   "codemirror_mode": {
    "name": "ipython",
    "version": 3
   },
   "file_extension": ".py",
   "mimetype": "text/x-python",
   "name": "python",
   "nbconvert_exporter": "python",
   "pygments_lexer": "ipython3",
   "version": "3.9.7"
  }
 },
 "nbformat": 4,
 "nbformat_minor": 5
}
